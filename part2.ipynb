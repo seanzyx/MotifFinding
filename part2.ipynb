{
 "cells": [
  {
   "cell_type": "code",
   "execution_count": 1,
   "metadata": {},
   "outputs": [],
   "source": [
    "import random\n",
    "import numpy as np\n",
    "import math"
   ]
  },
  {
   "cell_type": "code",
   "execution_count": 36,
   "metadata": {},
   "outputs": [],
   "source": [
    "##get input\n",
    "def get_input(datasetNumber):\n",
    "    fa_in = open(\"data set \"+str(datasetNumber)+\"/sequences.fa\",\"r\")\n",
    "    sequences = []# define a list to store the sequences\n",
    "    num_lines = 0\n",
    "    for line in fa_in.readlines():# read FASTA format line by line\n",
    "        line = line.rstrip()# trim the line\n",
    "        num_lines += 1\n",
    "        if num_lines % 2 == 0:\n",
    "            sequences.append(line)\n",
    "    fa_in.close()\n",
    "    num_seq = int(num_lines/2)\n",
    "    length_in = open(\"data set \"+str(datasetNumber)+\"/motiflength.txt\",\"r\")\n",
    "    motif_len = int(length_in.readline().strip())\n",
    "    length_in.close()\n",
    "    return sequences, motif_len"
   ]
  },
  {
   "cell_type": "code",
   "execution_count": 38,
   "metadata": {},
   "outputs": [],
   "source": [
    "def get_pwm(updated_motifs, motif_len, num_seq):\n",
    "    counts = [[0 for i in range(motif_len)] for j in range(4)]\n",
    "    for i in range(motif_len):\n",
    "        cur = [k[i] for k in updated_motifs]\n",
    "        counts[0][i] = cur.count('A')\n",
    "        counts[1][i] = cur.count('T')\n",
    "        counts[2][i] = cur.count('C')\n",
    "        counts[3][i] = cur.count('G')\n",
    "    counts = np.array(counts) \n",
    "    probs = counts/(num_seq-1)\n",
    "    ##print(pro_matrix)\n",
    "    return probs"
   ]
  },
  {
   "cell_type": "code",
   "execution_count": 10,
   "metadata": {},
   "outputs": [],
   "source": [
    "def generate_prob(probs,temp): #k_mer 'CAAATCCC'\n",
    "    '''\n",
    "    Calculate the probability of current k_mer\n",
    "    '''\n",
    "    dic = {'A':0,'T':1,'C':2,'G':3}\n",
    "    p = 1\n",
    "    for i in range(len(temp)):\n",
    "        p = p * probs[dic[temp[i]]][i]\n",
    "    return p"
   ]
  },
  {
   "cell_type": "code",
   "execution_count": 54,
   "metadata": {},
   "outputs": [],
   "source": [
    "def motifs_score(updated_motifs,background_p, motif_len, num_seq):\n",
    "    \n",
    "    #motif_count_matrix\n",
    "    counts = [[0 for i in range(motif_len)] for j in range(4)]\n",
    "    for i in range(motif_len):\n",
    "        cur = [k[i] for k in updated_motifs]\n",
    "        counts[0][i] = cur.count('A')\n",
    "        counts[1][i] = cur.count('T')\n",
    "        counts[2][i] = cur.count('C')\n",
    "        counts[3][i] = cur.count('G')\n",
    "    counts = np.array(counts)\n",
    "    #motif_probability_matrix\n",
    "    probs = counts/num_seq\n",
    "    #print(count_matrix)\n",
    "    score = 0\n",
    "    for i in range(motif_len):\n",
    "        for j in range(4):\n",
    "            if counts[j][i] == 0:\n",
    "                score += 0\n",
    "            else:\n",
    "                score += counts[j][i]*math.log2(probs[j][i]/background_p[j])\n",
    "    F = 0 \n",
    "    for i in range(motif_len):\n",
    "        idx = np.argwhere(counts[:][i] != 0)\n",
    "        curs = counts[idx][i]*math.log2(probs[:][i]/background_p[:])\n",
    "        F += np.sum(curs)\n",
    "    print(F)\n",
    "    print(score)\n",
    "    return score"
   ]
  },
  {
   "cell_type": "code",
   "execution_count": 32,
   "metadata": {},
   "outputs": [],
   "source": [
    "def findBestSites(datasetNumber, drops):\n",
    "    ##get input\n",
    "    sequences, motif_len = get_input(datasetNumber)\n",
    "\n",
    "    currentBestSites = []\n",
    "    currentBestScore = float('-inf')\n",
    "    for d in range(drops):\n",
    "        currentSites, currentScore = oneDrop(10, sequences, motif_len)\n",
    "        if currentScore > currentBestScore:\n",
    "            currentBestScore = currentScore\n",
    "            currentBestSites = currentSites\n",
    "    return currentBestSites, currentBestScore"
   ]
  },
  {
   "cell_type": "code",
   "execution_count": 33,
   "metadata": {},
   "outputs": [],
   "source": [
    "def oneDrop(iters, sequences, motif_len):\n",
    "    ## generate random locations in the sequences, and get the motifs\n",
    "    num_seq = len(sequences)\n",
    "    sites = [random.randint(0, (len(sequences[0])-motif_len)) for i in range(num_seq)]\n",
    "    random_motifs = []\n",
    "    for i in range(num_seq):\n",
    "        random_motifs.append(list(sequences[i][sites[i]:sites[i]+motif_len]))\n",
    "    score = float('-inf')\n",
    "\n",
    "    for it in range(iters):\n",
    "        ## remove one of the sequences randomly\n",
    "        hide_index = random.randint(0,num_seq-1)\n",
    "        updated_motifs = random_motifs.copy()\n",
    "        cur_sites = sites.copy()\n",
    "        updated_motifs.pop(hide_index)\n",
    "\n",
    "        ## get PWM from the rest of the motifs, generate probability distribution\n",
    "        probs = get_pwm(updated_motifs, motif_len, num_seq)\n",
    "        prob = []\n",
    "        hidden_seq = sequences[hide_index]\n",
    "        for i in  range(len(sequences[0])-motif_len+1):\n",
    "            temp_motif = hidden_seq[i:i+motif_len]\n",
    "            prob.append(generate_prob(probs,temp_motif))\n",
    "        ##use distribution to generate motif site\n",
    "\n",
    "        # updated_site = np.random.choice(len(sequences[0])-motif_len+1,1,prob)[0] ##do we use random\n",
    "\n",
    "        updated_site = np.argmax(prob)\n",
    "\n",
    "        cur_sites[hide_index] = updated_site\n",
    "        updated_motifs.insert(hide_index, list(sequences[hide_index][cur_sites[hide_index]:cur_sites[hide_index]+motif_len]))\n",
    "\n",
    "        ##calculate F for updated motifs\n",
    "        cur_score = motifs_score(updated_motifs, background, motif_len, num_seq)\n",
    "        # print(cur_score, score)\n",
    "        ##update if score is higher\n",
    "        if cur_score > score:\n",
    "            sites = cur_sites\n",
    "            random_motifs = updated_motifs\n",
    "            score = cur_score\n",
    "    return sites, score"
   ]
  },
  {
   "cell_type": "code",
   "execution_count": 55,
   "metadata": {},
   "outputs": [
    {
     "ename": "IndexError",
     "evalue": "index 4 is out of bounds for axis 0 with size 4",
     "output_type": "error",
     "traceback": [
      "\u001b[0;31m---------------------------------------------------------------------------\u001b[0m",
      "\u001b[0;31mIndexError\u001b[0m                                Traceback (most recent call last)",
      "\u001b[0;32m<ipython-input-55-298770b6c86b>\u001b[0m in \u001b[0;36m<module>\u001b[0;34m\u001b[0m\n\u001b[1;32m      1\u001b[0m \u001b[0mbackground\u001b[0m \u001b[0;34m=\u001b[0m \u001b[0;34m[\u001b[0m\u001b[0;36m0.25\u001b[0m\u001b[0;34m,\u001b[0m \u001b[0;36m0.25\u001b[0m\u001b[0;34m,\u001b[0m \u001b[0;36m0.25\u001b[0m\u001b[0;34m,\u001b[0m \u001b[0;36m0.25\u001b[0m\u001b[0;34m]\u001b[0m\u001b[0;34m\u001b[0m\u001b[0;34m\u001b[0m\u001b[0m\n\u001b[1;32m      2\u001b[0m \u001b[0;32mfor\u001b[0m \u001b[0mi\u001b[0m \u001b[0;32min\u001b[0m \u001b[0mrange\u001b[0m\u001b[0;34m(\u001b[0m\u001b[0;36m2\u001b[0m\u001b[0;34m)\u001b[0m\u001b[0;34m:\u001b[0m\u001b[0;34m\u001b[0m\u001b[0;34m\u001b[0m\u001b[0m\n\u001b[0;32m----> 3\u001b[0;31m     \u001b[0msites\u001b[0m\u001b[0;34m,\u001b[0m \u001b[0mscore\u001b[0m \u001b[0;34m=\u001b[0m \u001b[0mfindBestSites\u001b[0m\u001b[0;34m(\u001b[0m\u001b[0mi\u001b[0m\u001b[0;34m+\u001b[0m\u001b[0;36m1\u001b[0m\u001b[0;34m,\u001b[0m \u001b[0;36m1\u001b[0m\u001b[0;34m)\u001b[0m\u001b[0;34m\u001b[0m\u001b[0;34m\u001b[0m\u001b[0m\n\u001b[0m\u001b[1;32m      4\u001b[0m     \u001b[0mprint\u001b[0m\u001b[0;34m(\u001b[0m\u001b[0mi\u001b[0m\u001b[0;34m+\u001b[0m\u001b[0;36m1\u001b[0m\u001b[0;34m,\u001b[0m \u001b[0mscore\u001b[0m\u001b[0;34m)\u001b[0m\u001b[0;34m\u001b[0m\u001b[0;34m\u001b[0m\u001b[0m\n\u001b[1;32m      5\u001b[0m     \u001b[0mprint\u001b[0m\u001b[0;34m(\u001b[0m\u001b[0msites\u001b[0m\u001b[0;34m)\u001b[0m\u001b[0;34m\u001b[0m\u001b[0;34m\u001b[0m\u001b[0m\n",
      "\u001b[0;32m<ipython-input-32-46a9186e4ed9>\u001b[0m in \u001b[0;36mfindBestSites\u001b[0;34m(datasetNumber, drops)\u001b[0m\n\u001b[1;32m      6\u001b[0m     \u001b[0mcurrentBestScore\u001b[0m \u001b[0;34m=\u001b[0m \u001b[0mfloat\u001b[0m\u001b[0;34m(\u001b[0m\u001b[0;34m'-inf'\u001b[0m\u001b[0;34m)\u001b[0m\u001b[0;34m\u001b[0m\u001b[0;34m\u001b[0m\u001b[0m\n\u001b[1;32m      7\u001b[0m     \u001b[0;32mfor\u001b[0m \u001b[0md\u001b[0m \u001b[0;32min\u001b[0m \u001b[0mrange\u001b[0m\u001b[0;34m(\u001b[0m\u001b[0mdrops\u001b[0m\u001b[0;34m)\u001b[0m\u001b[0;34m:\u001b[0m\u001b[0;34m\u001b[0m\u001b[0;34m\u001b[0m\u001b[0m\n\u001b[0;32m----> 8\u001b[0;31m         \u001b[0mcurrentSites\u001b[0m\u001b[0;34m,\u001b[0m \u001b[0mcurrentScore\u001b[0m \u001b[0;34m=\u001b[0m \u001b[0moneDrop\u001b[0m\u001b[0;34m(\u001b[0m\u001b[0;36m10\u001b[0m\u001b[0;34m,\u001b[0m \u001b[0msequences\u001b[0m\u001b[0;34m,\u001b[0m \u001b[0mmotif_len\u001b[0m\u001b[0;34m)\u001b[0m\u001b[0;34m\u001b[0m\u001b[0;34m\u001b[0m\u001b[0m\n\u001b[0m\u001b[1;32m      9\u001b[0m         \u001b[0;32mif\u001b[0m \u001b[0mcurrentScore\u001b[0m \u001b[0;34m>\u001b[0m \u001b[0mcurrentBestScore\u001b[0m\u001b[0;34m:\u001b[0m\u001b[0;34m\u001b[0m\u001b[0;34m\u001b[0m\u001b[0m\n\u001b[1;32m     10\u001b[0m             \u001b[0mcurrentBestScore\u001b[0m \u001b[0;34m=\u001b[0m \u001b[0mcurrentScore\u001b[0m\u001b[0;34m\u001b[0m\u001b[0;34m\u001b[0m\u001b[0m\n",
      "\u001b[0;32m<ipython-input-33-20ae68c8da25>\u001b[0m in \u001b[0;36moneDrop\u001b[0;34m(iters, sequences, motif_len)\u001b[0m\n\u001b[1;32m     32\u001b[0m \u001b[0;34m\u001b[0m\u001b[0m\n\u001b[1;32m     33\u001b[0m         \u001b[0;31m##calculate F for updated motifs\u001b[0m\u001b[0;34m\u001b[0m\u001b[0;34m\u001b[0m\u001b[0;34m\u001b[0m\u001b[0m\n\u001b[0;32m---> 34\u001b[0;31m         \u001b[0mcur_score\u001b[0m \u001b[0;34m=\u001b[0m \u001b[0mmotifs_score\u001b[0m\u001b[0;34m(\u001b[0m\u001b[0mupdated_motifs\u001b[0m\u001b[0;34m,\u001b[0m \u001b[0mbackground\u001b[0m\u001b[0;34m,\u001b[0m \u001b[0mmotif_len\u001b[0m\u001b[0;34m,\u001b[0m \u001b[0mnum_seq\u001b[0m\u001b[0;34m)\u001b[0m\u001b[0;34m\u001b[0m\u001b[0;34m\u001b[0m\u001b[0m\n\u001b[0m\u001b[1;32m     35\u001b[0m         \u001b[0;31m# print(cur_score, score)\u001b[0m\u001b[0;34m\u001b[0m\u001b[0;34m\u001b[0m\u001b[0;34m\u001b[0m\u001b[0m\n\u001b[1;32m     36\u001b[0m         \u001b[0;31m##update if score is higher\u001b[0m\u001b[0;34m\u001b[0m\u001b[0;34m\u001b[0m\u001b[0;34m\u001b[0m\u001b[0m\n",
      "\u001b[0;32m<ipython-input-54-b659fcef83ef>\u001b[0m in \u001b[0;36mmotifs_score\u001b[0;34m(updated_motifs, background_p, motif_len, num_seq)\u001b[0m\n\u001b[1;32m     23\u001b[0m     \u001b[0;32mfor\u001b[0m \u001b[0mi\u001b[0m \u001b[0;32min\u001b[0m \u001b[0mrange\u001b[0m\u001b[0;34m(\u001b[0m\u001b[0mmotif_len\u001b[0m\u001b[0;34m)\u001b[0m\u001b[0;34m:\u001b[0m\u001b[0;34m\u001b[0m\u001b[0;34m\u001b[0m\u001b[0m\n\u001b[1;32m     24\u001b[0m         \u001b[0midx\u001b[0m \u001b[0;34m=\u001b[0m \u001b[0mnp\u001b[0m\u001b[0;34m.\u001b[0m\u001b[0margwhere\u001b[0m\u001b[0;34m(\u001b[0m\u001b[0mcounts\u001b[0m\u001b[0;34m[\u001b[0m\u001b[0;34m:\u001b[0m\u001b[0;34m]\u001b[0m\u001b[0;34m[\u001b[0m\u001b[0mi\u001b[0m\u001b[0;34m]\u001b[0m \u001b[0;34m!=\u001b[0m \u001b[0;36m0\u001b[0m\u001b[0;34m)\u001b[0m\u001b[0;34m\u001b[0m\u001b[0;34m\u001b[0m\u001b[0m\n\u001b[0;32m---> 25\u001b[0;31m         \u001b[0mcurs\u001b[0m \u001b[0;34m=\u001b[0m \u001b[0mcounts\u001b[0m\u001b[0;34m[\u001b[0m\u001b[0midx\u001b[0m\u001b[0;34m]\u001b[0m\u001b[0;34m[\u001b[0m\u001b[0mi\u001b[0m\u001b[0;34m]\u001b[0m\u001b[0;34m*\u001b[0m\u001b[0mmath\u001b[0m\u001b[0;34m.\u001b[0m\u001b[0mlog2\u001b[0m\u001b[0;34m(\u001b[0m\u001b[0mprobs\u001b[0m\u001b[0;34m[\u001b[0m\u001b[0;34m:\u001b[0m\u001b[0;34m]\u001b[0m\u001b[0;34m[\u001b[0m\u001b[0mi\u001b[0m\u001b[0;34m]\u001b[0m\u001b[0;34m/\u001b[0m\u001b[0mbackground_p\u001b[0m\u001b[0;34m[\u001b[0m\u001b[0;34m:\u001b[0m\u001b[0;34m]\u001b[0m\u001b[0;34m)\u001b[0m\u001b[0;34m\u001b[0m\u001b[0;34m\u001b[0m\u001b[0m\n\u001b[0m\u001b[1;32m     26\u001b[0m         \u001b[0mF\u001b[0m \u001b[0;34m+=\u001b[0m \u001b[0mnp\u001b[0m\u001b[0;34m.\u001b[0m\u001b[0msum\u001b[0m\u001b[0;34m(\u001b[0m\u001b[0mcurs\u001b[0m\u001b[0;34m)\u001b[0m\u001b[0;34m\u001b[0m\u001b[0;34m\u001b[0m\u001b[0m\n\u001b[1;32m     27\u001b[0m     \u001b[0mprint\u001b[0m\u001b[0;34m(\u001b[0m\u001b[0mF\u001b[0m\u001b[0;34m)\u001b[0m\u001b[0;34m\u001b[0m\u001b[0;34m\u001b[0m\u001b[0m\n",
      "\u001b[0;31mIndexError\u001b[0m: index 4 is out of bounds for axis 0 with size 4"
     ]
    }
   ],
   "source": [
    "background = [0.25, 0.25, 0.25, 0.25]\n",
    "for i in range(2):\n",
    "    sites, score = findBestSites(i+1, 1)\n",
    "    print(i+1, score)\n",
    "    print(sites)"
   ]
  },
  {
   "cell_type": "code",
   "execution_count": null,
   "metadata": {},
   "outputs": [],
   "source": []
  }
 ],
 "metadata": {
  "kernelspec": {
   "display_name": "Python 3",
   "language": "python",
   "name": "python3"
  },
  "language_info": {
   "codemirror_mode": {
    "name": "ipython",
    "version": 3
   },
   "file_extension": ".py",
   "mimetype": "text/x-python",
   "name": "python",
   "nbconvert_exporter": "python",
   "pygments_lexer": "ipython3",
   "version": "3.7.1"
  }
 },
 "nbformat": 4,
 "nbformat_minor": 2
}
