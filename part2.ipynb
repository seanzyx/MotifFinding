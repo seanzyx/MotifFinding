{
 "cells": [
  {
   "cell_type": "code",
   "execution_count": 80,
   "metadata": {},
   "outputs": [],
   "source": [
    "import random\n",
    "import numpy as np\n",
    "import math"
   ]
  },
  {
   "cell_type": "code",
   "execution_count": 81,
   "metadata": {},
   "outputs": [],
   "source": [
    "##get input\n",
    "def get_input():\n",
    "    fa_in = open(\"data set 1/sequences.fa\",\"r\")\n",
    "    fa_Seq = []# define a list to store the sequences\n",
    "    fa_Num = 0\n",
    "    for line in fa_in.readlines():# read FASTA format line by line\n",
    "        line = line.rstrip()# trim the line\n",
    "        fa_Num = fa_Num + 1\n",
    "        if fa_Num % 2 == 0:\n",
    "            fa_Seq.append(line)\n",
    "    fa_in.close()\n",
    "    num_seq = int(fa_Num/2)\n",
    "    length_in = open(\"data set 1/motiflength.txt\",\"r\")\n",
    "    motif_len = int(length_in.readline().strip())\n",
    "    length_in.close()\n",
    "    return fa_Seq, motif_len"
   ]
  },
  {
   "cell_type": "code",
   "execution_count": 86,
   "metadata": {},
   "outputs": [],
   "source": [
    "def get_pwm(updated_motifs):\n",
    "    counts = [[0 for i in range(motif_len)] for j in range(4)]\n",
    "    for i in range(motif_len):\n",
    "        for j in range(num_seq-1):\n",
    "            if updated_motifs[j][i] == 'A':\n",
    "                counts[0][i] += 1\n",
    "            elif updated_motifs[j][i] == 'T':\n",
    "                counts[1][i] += 1\n",
    "            elif updated_motifs[j][i] == 'C':\n",
    "                counts[2][i] += 1\n",
    "            elif updated_motifs[j][i] == 'G':\n",
    "                counts[3][i] += 1\n",
    "    counts = np.array(counts) \n",
    "    probs = counts/(num_seq-1)\n",
    "    ##print(pro_matrix)\n",
    "    return probs"
   ]
  },
  {
   "cell_type": "code",
   "execution_count": 83,
   "metadata": {},
   "outputs": [],
   "source": [
    "def generate_prob(probs,temp): #k_mer 'CAAATCCC'\n",
    "    '''\n",
    "    Calculate the probability of current k_mer\n",
    "    '''\n",
    "    dic = {'A':0,'T':1,'C':2,'G':3}\n",
    "    p = 1\n",
    "    for i in range(len(temp)):\n",
    "        p = p * probs[dic[temp[i]]][i]\n",
    "    return p"
   ]
  },
  {
   "cell_type": "code",
   "execution_count": 84,
   "metadata": {},
   "outputs": [],
   "source": [
    "def motifs_score(temp_k_mers,background_p):\n",
    "    dic = {'A':0,'T':1,'C':2,'G':3}\n",
    "    sigma = ['A','T','C','G']\n",
    "    \n",
    "    #motif_count_matrix\n",
    "    count_matrix = [[0 for i in range(motif_len)] for j in range(4)]\n",
    "    for i in range(motif_len):\n",
    "        for j in range(num_seq):\n",
    "            if temp_k_mers[j][i] == 'A':\n",
    "                count_matrix[0][i] += 1\n",
    "            elif temp_k_mers[j][i] == 'T':\n",
    "                count_matrix[1][i] += 1\n",
    "            elif temp_k_mers[j][i] == 'C':\n",
    "                count_matrix[2][i] += 1\n",
    "            elif temp_k_mers[j][i] == 'G':\n",
    "                count_matrix[3][i] += 1\n",
    "    count_matrix = np.array(count_matrix)\n",
    "    #motif_probability_matrix\n",
    "    pro_matrix = count_matrix/fa_Num\n",
    "    #print(count_matrix)\n",
    "    F = 0\n",
    "    for i in range(len(temp_k_mers[0])):\n",
    "        for j in range(4):\n",
    "            if count_matrix[j][i] == 0:\n",
    "                F += 0\n",
    "            else:\n",
    "                F += count_matrix[j][i]*math.log2(pro_matrix[j][i]/background_p[j])\n",
    "    return F"
   ]
  },
  {
   "cell_type": "code",
   "execution_count": 88,
   "metadata": {},
   "outputs": [
    {
     "name": "stdout",
     "output_type": "stream",
     "text": [
      "-4.173347707347286\n",
      "[416, 488, 283, 13, 261, 435, 147, 92, 184, 450]\n"
     ]
    }
   ],
   "source": [
    "##get input\n",
    "fa_Seq, motif_len = get_input()\n",
    "num_seq = len(fa_Seq)\n",
    "\n",
    "## generate random locations in the sequences, and get the motifs\n",
    "sites = [random.randint(0, (len(fa_Seq[0])-motif_len)) for i in range(num_seq)] \n",
    "random_motifs = [] \n",
    "for i in range(num_seq):\n",
    "    random_motifs.append(list(fa_Seq[i][sites[i]:sites[i]+motif_len]))\n",
    "\n",
    "score = float('-inf')\n",
    "background = [0.25, 0.25, 0.25, 0.25]\n",
    "\n",
    "A = []\n",
    "##iterate 1000 times\n",
    "for it in range(1000):\n",
    "    ## remove one of the sequences randomly\n",
    "    hide_index = random.randint(0,num_seq-1) \n",
    "    updated_motifs = random_motifs.copy()\n",
    "    cur_sites = sites.copy()\n",
    "    updated_motifs.pop(hide_index)\n",
    "\n",
    "    ## get PWM from the rest of the motifs, generate probability distribution\n",
    "    probs = get_pwm(updated_motifs)\n",
    "    prob = []\n",
    "    hidden_seq = fa_Seq[hide_index]\n",
    "    for i in  range(len(fa_Seq[0])-motif_len+1):\n",
    "        temp_motif = hidden_seq[i:i+motif_len]\n",
    "        prob.append(generate_prob(probs,temp_motif))\n",
    "    ##use distribution to generate motif site\n",
    "    updated_site = np.random.choice(len(fa_Seq[0])-motif_len+1,1,prob)[0] ##do we use random\n",
    "    cur_sites[hide_index] = updated_site\n",
    "    updated_motifs.insert(hide_index, list(fa_Seq[hide_index][cur_sites[hide_index]:cur_sites[hide_index]+motif_len]))\n",
    "    \n",
    "    ##calculate F for updated motifs\n",
    "    cur_score = motifs_score(updated_motifs, background)\n",
    "    \n",
    "    ##update if score is higher\n",
    "    if cur_score > score:\n",
    "        sites = cur_sites\n",
    "        random_motifs = updated_motifs\n",
    "        score = cur_score\n",
    "print(score)\n",
    "print(sites)"
   ]
  },
  {
   "cell_type": "code",
   "execution_count": null,
   "metadata": {},
   "outputs": [],
   "source": []
  }
 ],
 "metadata": {
  "kernelspec": {
   "display_name": "Python 3",
   "language": "python",
   "name": "python3"
  },
  "language_info": {
   "codemirror_mode": {
    "name": "ipython",
    "version": 3
   },
   "file_extension": ".py",
   "mimetype": "text/x-python",
   "name": "python",
   "nbconvert_exporter": "python",
   "pygments_lexer": "ipython3",
   "version": "3.7.1"
  }
 },
 "nbformat": 4,
 "nbformat_minor": 2
}
