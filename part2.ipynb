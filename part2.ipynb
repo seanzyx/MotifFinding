{
 "cells": [
  {
   "cell_type": "code",
   "execution_count": 18,
   "metadata": {},
   "outputs": [],
   "source": [
    "import random\n",
    "import numpy as np\n",
    "import math"
   ]
  },
  {
   "cell_type": "code",
   "execution_count": 19,
   "metadata": {},
   "outputs": [],
   "source": [
    "##get input\n",
    "def get_input(datasetNumber):\n",
    "    fa_in = open(\"data set \"+str(datasetNumber)+\"/sequences.fa\",\"r\")\n",
    "    sequences = []# define a list to store the sequences\n",
    "    num_lines = 0\n",
    "    for line in fa_in.readlines():# read FASTA format line by line\n",
    "        line = line.rstrip()# trim the line\n",
    "        num_lines += 1\n",
    "        if num_lines % 2 == 0:\n",
    "            sequences.append(line)\n",
    "    fa_in.close()\n",
    "    num_seq = int(num_lines/2)\n",
    "    length_in = open(\"data set \"+str(datasetNumber)+\"/motiflength.txt\",\"r\")\n",
    "    motif_len = int(length_in.readline().strip())\n",
    "    length_in.close()\n",
    "    return sequences, motif_len"
   ]
  },
  {
   "cell_type": "code",
   "execution_count": 42,
   "metadata": {},
   "outputs": [],
   "source": [
    "def get_pwm(updated_motifs, motif_len, num_seq):\n",
    "    counts = [[0 for i in range(motif_len)] for j in range(4)]\n",
    "    for i in range(motif_len):\n",
    "        cur = [k[i] for k in updated_motifs]\n",
    "        counts[0][i] = cur.count('A')\n",
    "        counts[1][i] = cur.count('T')\n",
    "        counts[2][i] = cur.count('C')\n",
    "        counts[3][i] = cur.count('G')\n",
    "    counts = np.array(counts) \n",
    "    probs = counts/(num_seq-1)\n",
    "    ##print(pro_matrix)\n",
    "    return probs"
   ]
  },
  {
   "cell_type": "code",
   "execution_count": 21,
   "metadata": {},
   "outputs": [],
   "source": [
    "def generate_prob(probs,temp): #k_mer 'CAAATCCC'\n",
    "    '''\n",
    "    Calculate the probability of current k_mer\n",
    "    '''\n",
    "    dic = {'A':0,'T':1,'C':2,'G':3}\n",
    "    p = 1\n",
    "    for i in range(len(temp)):\n",
    "        p = p * probs[dic[temp[i]]][i]\n",
    "    return p"
   ]
  },
  {
   "cell_type": "code",
   "execution_count": 22,
   "metadata": {},
   "outputs": [],
   "source": [
    "def motifs_score(updated_motifs,background_p, motif_len, num_seq):\n",
    "    \n",
    "    #motif_count_matrix\n",
    "    counts = [[0 for i in range(motif_len)] for j in range(4)]\n",
    "    for i in range(motif_len):\n",
    "        cur = [k[i] for k in updated_motifs]\n",
    "        counts[0][i] = cur.count('A')\n",
    "        counts[1][i] = cur.count('T')\n",
    "        counts[2][i] = cur.count('C')\n",
    "        counts[3][i] = cur.count('G')\n",
    "    counts = np.array(counts)\n",
    "    #motif_probability_matrix\n",
    "    probs = counts/num_seq\n",
    "    #print(count_matrix)\n",
    "    score = 0\n",
    "    for i in range(motif_len):\n",
    "        for j in range(4):\n",
    "            if counts[j][i] == 0:\n",
    "                score += 0\n",
    "            else:\n",
    "                score += counts[j][i]*math.log2(probs[j][i]/background_p[j])\n",
    "    \n",
    "    return score"
   ]
  },
  {
   "cell_type": "code",
   "execution_count": 50,
   "metadata": {},
   "outputs": [],
   "source": [
    "def findBestSites(datasetNumber, drops):\n",
    "    ##get input\n",
    "    sequences, motif_len = get_input(datasetNumber)\n",
    "\n",
    "    currentBestSites = []\n",
    "    currentBestScore = float('-inf')\n",
    "    currentMotif = None\n",
    "    for d in range(drops):\n",
    "        currentSites, currentScore, motif = oneDrop(20, sequences, motif_len)\n",
    "        if currentScore > currentBestScore:\n",
    "            currentBestScore = currentScore\n",
    "            currentBestSites = currentSites\n",
    "            currentMotif = motif\n",
    "    return currentBestSites, currentBestScore, currentMotif, motif_len, len(sequences)"
   ]
  },
  {
   "cell_type": "code",
   "execution_count": 33,
   "metadata": {},
   "outputs": [],
   "source": [
    "def oneDrop(iters, sequences, motif_len):\n",
    "    ## generate random locations in the sequences, and get the motifs\n",
    "    num_seq = len(sequences)\n",
    "    sites = [random.randint(0, (len(sequences[0])-motif_len)) for i in range(num_seq)]\n",
    "    random_motifs = []\n",
    "    for i in range(num_seq):\n",
    "        random_motifs.append(list(sequences[i][sites[i]:sites[i]+motif_len]))\n",
    "    score = float('-inf')\n",
    "    ##probs = get_pwm(random_motifs, motif_len, num_seq)\n",
    "\n",
    "    for it in range(iters):\n",
    "        ## remove one of the sequences randomly\n",
    "        hide_index = random.randint(0,num_seq-1)\n",
    "        updated_motifs = random_motifs.copy()\n",
    "        cur_sites = sites.copy()\n",
    "        updated_motifs.pop(hide_index)\n",
    "        ##orig_prob = np.array(probs[hide_index])\n",
    "        ##probs.pop(hide_index)\n",
    "\n",
    "        ## get PWM from the rest of the motifs, generate probability distribution\n",
    "        probs = get_pwm(updated_motifs, motif_len, num_seq)\n",
    "        prob = []\n",
    "        hidden_seq = sequences[hide_index]\n",
    "        for i in  range(len(sequences[0])-motif_len+1):\n",
    "            temp_motif = hidden_seq[i:i+motif_len]\n",
    "            prob.append(generate_prob(probs,temp_motif))\n",
    "\n",
    "        # updated_site = np.random.choice(len(sequences[0])-motif_len+1,1,prob)[0] ##do we use random\n",
    "\n",
    "        updated_site = np.argmax(prob)\n",
    "\n",
    "        cur_sites[hide_index] = updated_site\n",
    "        updated_motifs.insert(hide_index, list(sequences[hide_index][cur_sites[hide_index]:cur_sites[hide_index]+motif_len]))\n",
    "\n",
    "        ##calculate F for updated motifs\n",
    "        cur_score = motifs_score(updated_motifs, background, motif_len, num_seq)\n",
    "        # print(cur_score, score)\n",
    "        ##update if score is higher\n",
    "        if cur_score > score:\n",
    "            sites = cur_sites\n",
    "            random_motifs = updated_motifs\n",
    "            score = cur_score\n",
    "    predicted_probs = get_pwm(random_motifs, motif_len, num_seq+1)\n",
    "    return sites, score, predicted_probs"
   ]
  },
  {
   "cell_type": "code",
   "execution_count": 47,
   "metadata": {},
   "outputs": [],
   "source": [
    "def get_results(datasetNumber, motif_len):\n",
    "    s_in = open(\"data set \"+str(datasetNumber)+\"/sites.txt\",\"r\")\n",
    "    sites = []\n",
    "    for line in s_in.readlines():# read FASTA format line by line\n",
    "        line = line.rstrip()\n",
    "        sites.append(int(line))\n",
    "    s_in.close()\n",
    "    motif_in = open(\"data set \"+str(datasetNumber)+\"/motif.txt\",\"r\")\n",
    "    motif = []\n",
    "    cc = 0\n",
    "    for line in motif_in.readlines():# read FASTA format line by line\n",
    "        if cc != 0 and cc != motif_len+1:\n",
    "            line = line.rstrip().split(' ')\n",
    "            li = [float(i) for i in line]\n",
    "            motif.append(li)\n",
    "        cc += 1\n",
    "    motif_in.close()\n",
    "    return sites, motif"
   ]
  },
  {
   "cell_type": "code",
   "execution_count": 51,
   "metadata": {},
   "outputs": [],
   "source": [
    "background = [0.25, 0.25, 0.25, 0.25]\n",
    "for i in range(70):\n",
    "    out_motif = open(\"data set \"+str(i+1)+\"/predictedmotif.txt\",\"w+\")\n",
    "    out_sites = open(\"data set \"+str(i+1)+\"/predictedsites.txt\",\"w+\")\n",
    "    sites, score, motif, length, num_seq = findBestSites(i+1, 1000)\n",
    "    motif = np.transpose(motif)\n",
    "    for k in range(length):\n",
    "        for m in motif[k]:\n",
    "            out_motif.write(str(m) + ' ')\n",
    "        out_motif.write('\\n')\n",
    "    for j in range(num_seq):\n",
    "        out_sites.write(str(sites[j]) + ' \\n')\n",
    "    ##tru, tru_motif = get_results(i+1, length)\n",
    "    out_motif.close()\n",
    "    out_sites.close()"
   ]
  },
  {
   "cell_type": "code",
   "execution_count": 43,
   "metadata": {},
   "outputs": [
    {
     "name": "stdout",
     "output_type": "stream",
     "text": [
      "1\n",
      "1\n",
      "1\n",
      "1\n",
      "1\n"
     ]
    },
    {
     "data": {
      "text/plain": [
       "[None, None, None, None, None]"
      ]
     },
     "execution_count": 43,
     "metadata": {},
     "output_type": "execute_result"
    }
   ],
   "source": [
    "temp = np.array([1, 1, 1, 1, 1])\n",
    "[print(str(m)) for m in temp]"
   ]
  },
  {
   "cell_type": "code",
   "execution_count": null,
   "metadata": {},
   "outputs": [],
   "source": []
  }
 ],
 "metadata": {
  "kernelspec": {
   "display_name": "Python 3",
   "language": "python",
   "name": "python3"
  },
  "language_info": {
   "codemirror_mode": {
    "name": "ipython",
    "version": 3
   },
   "file_extension": ".py",
   "mimetype": "text/x-python",
   "name": "python",
   "nbconvert_exporter": "python",
   "pygments_lexer": "ipython3",
   "version": "3.7.1"
  }
 },
 "nbformat": 4,
 "nbformat_minor": 2
}
