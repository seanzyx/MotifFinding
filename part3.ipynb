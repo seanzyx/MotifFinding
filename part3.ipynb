{
 "cells": [
  {
   "cell_type": "code",
   "execution_count": 1,
   "metadata": {},
   "outputs": [],
   "source": [
    "import numpy as np\n",
    "import math\n",
    "import matplotlib as plt"
   ]
  },
  {
   "cell_type": "code",
   "execution_count": null,
   "metadata": {},
   "outputs": [],
   "source": [
    "def get_input(datasetNumber):\n",
    "    s_in = open(\"data set \"+str(datasetNumber)+\"/sites.txt\",\"r\")\n",
    "    sites = []\n",
    "    for line in s_in.readlines():# read FASTA format line by line\n",
    "        line = line.rstrip()\n",
    "        sites.append(int(line))\n",
    "    s_in.close()\n",
    "    s_in = open(\"data set \"+str(datasetNumber)+\"/predictedsites.txt\",\"r\")\n",
    "    p_sites = []\n",
    "    for line in s_in.readlines():# read FASTA format line by line\n",
    "        line = line.rstrip()\n",
    "        p_sites.append(int(line))\n",
    "    s_in.close()\n",
    "    motif_in = open(\"data set \"+str(datasetNumber)+\"/motif.txt\",\"r\")\n",
    "    motif = []\n",
    "    cc = 0\n",
    "    for line in motif_in.readlines():# read FASTA format line by line\n",
    "        if cc != 0 and cc != 9:\n",
    "            line = line.rstrip().split(' ')\n",
    "            li = [float(i) for i in line]\n",
    "            motif.append(li)\n",
    "        cc += 1\n",
    "    motif_in.close()\n",
    "    motif_in = open(\"data set \"+str(datasetNumber)+\"/predictedmotif.txt\",\"r\")\n",
    "    p_motif = []\n",
    "    for line in motif_in.readlines():# read FASTA format line by line\n",
    "            line = line.rstrip().split(' ')\n",
    "            li = [float(i) for i in line]\n",
    "            p_motif.append(li)\n",
    "    motif_in.close()\n",
    "    return sites, motif, p_sites, p_motif"
   ]
  },
  {
   "cell_type": "code",
   "execution_count": 2,
   "metadata": {},
   "outputs": [],
   "source": [
    "def relative_entropy(motif, p_motif):\n",
    "    kl = 0\n",
    "    for i in range(len(motif)):\n",
    "        p = np.asarray(motif[i], dtype=np.float)\n",
    "        q = np.asarray(p_motif[i], dtype=np.float)\n",
    "        kl += np.sum(np.where(p != 0, p * np.log(p / q), 0))\n",
    "    return kl"
   ]
  },
  {
   "cell_type": "code",
   "execution_count": null,
   "metadata": {},
   "outputs": [],
   "source": [
    "num_sites_overlap = 0 ## number of overlapping sites\n",
    "num_overlap_positions = [] # all numbers of overlapping positions\n",
    "entropys = [] ## all relative entropies\n",
    "for i in range(70):\n",
    "    sites, motif, p_sites, p_motif = get_input(i+1)\n",
    "    sites_overlap = list(set(sites) & set(p_sites))\n",
    "    kl = relative_entropy(motif, p_motif)\n",
    "    entropys.append(kl)\n",
    "    print('number of overlapping positions for ' + str(i+1) + 'th dataset:')\n",
    "    print(len(sites_overlap))\n",
    "    num_overlap_positions.append(len(sites_overlap))\n",
    "    if len(sites_overlap) > (len(sites)/2):\n",
    "        num_sites_overlap += 1"
   ]
  },
  {
   "cell_type": "code",
   "execution_count": null,
   "metadata": {},
   "outputs": [],
   "source": []
  }
 ],
 "metadata": {
  "kernelspec": {
   "display_name": "Python 3",
   "language": "python",
   "name": "python3"
  },
  "language_info": {
   "codemirror_mode": {
    "name": "ipython",
    "version": 3
   },
   "file_extension": ".py",
   "mimetype": "text/x-python",
   "name": "python",
   "nbconvert_exporter": "python",
   "pygments_lexer": "ipython3",
   "version": "3.7.1"
  }
 },
 "nbformat": 4,
 "nbformat_minor": 2
}
